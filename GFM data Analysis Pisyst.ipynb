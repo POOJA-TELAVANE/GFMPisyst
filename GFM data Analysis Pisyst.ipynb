{
 "cells": [
  {
   "cell_type": "code",
   "execution_count": 1,
   "metadata": {},
   "outputs": [],
   "source": [
    "import pandas as pd\n",
    "import numpy as np                            #importing libraries"
   ]
  },
  {
   "cell_type": "code",
   "execution_count": 2,
   "metadata": {},
   "outputs": [],
   "source": [
    "gfm_data=pd.read_csv('gfm_data.csv')          #imported dataset"
   ]
  },
  {
   "cell_type": "markdown",
   "metadata": {},
   "source": [
    "## Data Analysis"
   ]
  },
  {
   "cell_type": "code",
   "execution_count": 3,
   "metadata": {},
   "outputs": [
    {
     "data": {
      "text/html": [
       "<div>\n",
       "<style scoped>\n",
       "    .dataframe tbody tr th:only-of-type {\n",
       "        vertical-align: middle;\n",
       "    }\n",
       "\n",
       "    .dataframe tbody tr th {\n",
       "        vertical-align: top;\n",
       "    }\n",
       "\n",
       "    .dataframe thead th {\n",
       "        text-align: right;\n",
       "    }\n",
       "</style>\n",
       "<table border=\"1\" class=\"dataframe\">\n",
       "  <thead>\n",
       "    <tr style=\"text-align: right;\">\n",
       "      <th></th>\n",
       "      <th>Category</th>\n",
       "      <th>Title</th>\n",
       "      <th>Location</th>\n",
       "      <th>Amount_Raised</th>\n",
       "      <th>Goal</th>\n",
       "      <th>Days_of_Fundraising</th>\n",
       "      <th>Number_of_Donors</th>\n",
       "      <th>FB_Shares</th>\n",
       "      <th>Text</th>\n",
       "    </tr>\n",
       "  </thead>\n",
       "  <tbody>\n",
       "    <tr>\n",
       "      <th>0</th>\n",
       "      <td>Medical</td>\n",
       "      <td>Justice for Jacob Blake</td>\n",
       "      <td>Kenosha, WI</td>\n",
       "      <td>2297930.0</td>\n",
       "      <td>3000000.0</td>\n",
       "      <td>93</td>\n",
       "      <td>72.5K</td>\n",
       "      <td>118K</td>\n",
       "      <td>On August 23rd my son was shot multiple times ...</td>\n",
       "    </tr>\n",
       "    <tr>\n",
       "      <th>1</th>\n",
       "      <td>Medical</td>\n",
       "      <td>Official Navajo Nation COVID-19 Relief Fund</td>\n",
       "      <td>Window Rock, AZ</td>\n",
       "      <td>1862040.0</td>\n",
       "      <td>1000000.0</td>\n",
       "      <td>205</td>\n",
       "      <td>21.9K</td>\n",
       "      <td>71.7K</td>\n",
       "      <td>The Navajo Nation COVID-19 Fund has been estab...</td>\n",
       "    </tr>\n",
       "    <tr>\n",
       "      <th>2</th>\n",
       "      <td>Medical</td>\n",
       "      <td>Help a front line nurse and baby get proper care</td>\n",
       "      <td>Randolph, NJ</td>\n",
       "      <td>954793.0</td>\n",
       "      <td>1200000.0</td>\n",
       "      <td>215</td>\n",
       "      <td>18.3K</td>\n",
       "      <td>16.4K</td>\n",
       "      <td>On Sunday, April 12, Sylvia Leroy, a pregnant ...</td>\n",
       "    </tr>\n",
       "    <tr>\n",
       "      <th>3</th>\n",
       "      <td>Medical</td>\n",
       "      <td>Rest up, Tommy, we'll see you soon</td>\n",
       "      <td>Scottsdale, AZ</td>\n",
       "      <td>673179.0</td>\n",
       "      <td>1000000.0</td>\n",
       "      <td>131</td>\n",
       "      <td>10.3K</td>\n",
       "      <td>21.3K</td>\n",
       "      <td>First, thank you for being here. Tommy Rivers ...</td>\n",
       "    </tr>\n",
       "    <tr>\n",
       "      <th>4</th>\n",
       "      <td>Medical</td>\n",
       "      <td>OFFICIAL BRANDON SAENZ MEDICAL FUND</td>\n",
       "      <td>Tyler, TX</td>\n",
       "      <td>570529.0</td>\n",
       "      <td>750000.0</td>\n",
       "      <td>175</td>\n",
       "      <td>24.3K</td>\n",
       "      <td>5.5K</td>\n",
       "      <td>My name is Melissa Green and I am the mother o...</td>\n",
       "    </tr>\n",
       "    <tr>\n",
       "      <th>...</th>\n",
       "      <td>...</td>\n",
       "      <td>...</td>\n",
       "      <td>...</td>\n",
       "      <td>...</td>\n",
       "      <td>...</td>\n",
       "      <td>...</td>\n",
       "      <td>...</td>\n",
       "      <td>...</td>\n",
       "      <td>...</td>\n",
       "    </tr>\n",
       "    <tr>\n",
       "      <th>833</th>\n",
       "      <td>Wishes</td>\n",
       "      <td>Juneteenth Women of Color Scholarship Fund</td>\n",
       "      <td>Brooklyn, NY</td>\n",
       "      <td>17348.0</td>\n",
       "      <td>20000.0</td>\n",
       "      <td>160</td>\n",
       "      <td>366</td>\n",
       "      <td>214</td>\n",
       "      <td>The need for community and collective healing ...</td>\n",
       "    </tr>\n",
       "    <tr>\n",
       "      <th>834</th>\n",
       "      <td>Wishes</td>\n",
       "      <td>All-Terrain Wheelchair for Benjamin Wimett</td>\n",
       "      <td>Brandon, VT</td>\n",
       "      <td>19300.0</td>\n",
       "      <td>17000.0</td>\n",
       "      <td>200</td>\n",
       "      <td>279</td>\n",
       "      <td>2.5K</td>\n",
       "      <td>I am 35 years old and was born with cerebral p...</td>\n",
       "    </tr>\n",
       "    <tr>\n",
       "      <th>835</th>\n",
       "      <td>Wishes</td>\n",
       "      <td>Martha's Daughter</td>\n",
       "      <td>Amherst, MA</td>\n",
       "      <td>21435.0</td>\n",
       "      <td>300000.0</td>\n",
       "      <td>110</td>\n",
       "      <td>318</td>\n",
       "      <td>868</td>\n",
       "      <td>Greetings,My name is Nyanyika Banda. I am a ch...</td>\n",
       "    </tr>\n",
       "    <tr>\n",
       "      <th>836</th>\n",
       "      <td>Wishes</td>\n",
       "      <td>Financial Difficulties</td>\n",
       "      <td>Johnson City, TN</td>\n",
       "      <td>16405.0</td>\n",
       "      <td>70000.0</td>\n",
       "      <td>173</td>\n",
       "      <td>148</td>\n",
       "      <td>379</td>\n",
       "      <td>My wife, Roni, and I have faced many  health c...</td>\n",
       "    </tr>\n",
       "    <tr>\n",
       "      <th>837</th>\n",
       "      <td>Wishes</td>\n",
       "      <td>Our Roots - Yahchouche</td>\n",
       "      <td>Santa Ana, CA</td>\n",
       "      <td>17905.0</td>\n",
       "      <td>50000.0</td>\n",
       "      <td>147</td>\n",
       "      <td>45</td>\n",
       "      <td>242</td>\n",
       "      <td>No matter where life has lead us, our past for...</td>\n",
       "    </tr>\n",
       "  </tbody>\n",
       "</table>\n",
       "<p>838 rows × 9 columns</p>\n",
       "</div>"
      ],
      "text/plain": [
       "    Category                                             Title  \\\n",
       "0    Medical                           Justice for Jacob Blake   \n",
       "1    Medical       Official Navajo Nation COVID-19 Relief Fund   \n",
       "2    Medical  Help a front line nurse and baby get proper care   \n",
       "3    Medical                Rest up, Tommy, we'll see you soon   \n",
       "4    Medical               OFFICIAL BRANDON SAENZ MEDICAL FUND   \n",
       "..       ...                                               ...   \n",
       "833   Wishes        Juneteenth Women of Color Scholarship Fund   \n",
       "834   Wishes        All-Terrain Wheelchair for Benjamin Wimett   \n",
       "835   Wishes                                 Martha's Daughter   \n",
       "836   Wishes                            Financial Difficulties   \n",
       "837   Wishes                            Our Roots - Yahchouche   \n",
       "\n",
       "             Location  Amount_Raised       Goal  Days_of_Fundraising  \\\n",
       "0         Kenosha, WI      2297930.0  3000000.0                   93   \n",
       "1     Window Rock, AZ      1862040.0  1000000.0                  205   \n",
       "2        Randolph, NJ       954793.0  1200000.0                  215   \n",
       "3      Scottsdale, AZ       673179.0  1000000.0                  131   \n",
       "4           Tyler, TX       570529.0   750000.0                  175   \n",
       "..                ...            ...        ...                  ...   \n",
       "833      Brooklyn, NY        17348.0    20000.0                  160   \n",
       "834       Brandon, VT        19300.0    17000.0                  200   \n",
       "835       Amherst, MA        21435.0   300000.0                  110   \n",
       "836  Johnson City, TN        16405.0    70000.0                  173   \n",
       "837     Santa Ana, CA        17905.0    50000.0                  147   \n",
       "\n",
       "    Number_of_Donors FB_Shares  \\\n",
       "0              72.5K      118K   \n",
       "1              21.9K     71.7K   \n",
       "2              18.3K     16.4K   \n",
       "3              10.3K     21.3K   \n",
       "4              24.3K      5.5K   \n",
       "..               ...       ...   \n",
       "833              366       214   \n",
       "834              279      2.5K   \n",
       "835              318       868   \n",
       "836              148       379   \n",
       "837               45       242   \n",
       "\n",
       "                                                  Text  \n",
       "0    On August 23rd my son was shot multiple times ...  \n",
       "1    The Navajo Nation COVID-19 Fund has been estab...  \n",
       "2    On Sunday, April 12, Sylvia Leroy, a pregnant ...  \n",
       "3    First, thank you for being here. Tommy Rivers ...  \n",
       "4    My name is Melissa Green and I am the mother o...  \n",
       "..                                                 ...  \n",
       "833  The need for community and collective healing ...  \n",
       "834  I am 35 years old and was born with cerebral p...  \n",
       "835  Greetings,My name is Nyanyika Banda. I am a ch...  \n",
       "836  My wife, Roni, and I have faced many  health c...  \n",
       "837  No matter where life has lead us, our past for...  \n",
       "\n",
       "[838 rows x 9 columns]"
      ]
     },
     "execution_count": 3,
     "metadata": {},
     "output_type": "execute_result"
    }
   ],
   "source": [
    "gfm_data                           "
   ]
  },
  {
   "cell_type": "markdown",
   "metadata": {},
   "source": [
    "### Overwrite the columns for Number_of_Donors and FB_Shares with columns of the same name, but containing integers instead of strings. The dataframe should still be named gfm_data.\n",
    "\n"
   ]
  },
  {
   "cell_type": "code",
   "execution_count": 4,
   "metadata": {},
   "outputs": [],
   "source": [
    "gfm_data[\"FB_Shares\"]=gfm_data[\"FB_Shares\"].apply(lambda st: float(st.replace(\"K\",\"\")))  #replaced K with space"
   ]
  },
  {
   "cell_type": "code",
   "execution_count": 5,
   "metadata": {},
   "outputs": [
    {
     "data": {
      "text/plain": [
       "0      118.0\n",
       "1       71.7\n",
       "2       16.4\n",
       "3       21.3\n",
       "4        5.5\n",
       "       ...  \n",
       "833    214.0\n",
       "834      2.5\n",
       "835    868.0\n",
       "836    379.0\n",
       "837    242.0\n",
       "Name: FB_Shares, Length: 838, dtype: float64"
      ]
     },
     "execution_count": 5,
     "metadata": {},
     "output_type": "execute_result"
    }
   ],
   "source": [
    "gfm_data[\"FB_Shares\"]                                          #fb_shares dtype-float"
   ]
  },
  {
   "cell_type": "code",
   "execution_count": 6,
   "metadata": {},
   "outputs": [
    {
     "data": {
      "text/plain": [
       "0      118000.0\n",
       "1       71700.0\n",
       "2       16400.0\n",
       "3       21300.0\n",
       "4        5500.0\n",
       "         ...   \n",
       "833    214000.0\n",
       "834      2500.0\n",
       "835    868000.0\n",
       "836    379000.0\n",
       "837    242000.0\n",
       "Name: FB_Shares, Length: 838, dtype: float64"
      ]
     },
     "execution_count": 6,
     "metadata": {},
     "output_type": "execute_result"
    }
   ],
   "source": [
    "gfm_data[\"FB_Shares\"]=gfm_data[\"FB_Shares\"]*1000              #multiplied numbers with 1000\n",
    "gfm_data[\"FB_Shares\"]"
   ]
  },
  {
   "cell_type": "code",
   "execution_count": 7,
   "metadata": {},
   "outputs": [],
   "source": [
    "gfm_data[\"Number_of_Donors\"]=gfm_data[\"Number_of_Donors\"].apply(lambda st: float(st.replace(\"K\",\"\")))  #repalced K with space"
   ]
  },
  {
   "cell_type": "code",
   "execution_count": 8,
   "metadata": {},
   "outputs": [
    {
     "data": {
      "text/plain": [
       "0       72500.0\n",
       "1       21900.0\n",
       "2       18300.0\n",
       "3       10300.0\n",
       "4       24300.0\n",
       "         ...   \n",
       "833    366000.0\n",
       "834    279000.0\n",
       "835    318000.0\n",
       "836    148000.0\n",
       "837     45000.0\n",
       "Name: Number_of_Donors, Length: 838, dtype: float64"
      ]
     },
     "execution_count": 8,
     "metadata": {},
     "output_type": "execute_result"
    }
   ],
   "source": [
    "gfm_data[\"Number_of_Donors\"]=gfm_data[\"Number_of_Donors\"]*1000         #multiplied numbers with 1000\n",
    "gfm_data[\"Number_of_Donors\"]"
   ]
  },
  {
   "cell_type": "code",
   "execution_count": 30,
   "metadata": {},
   "outputs": [
    {
     "data": {
      "text/html": [
       "<div>\n",
       "<style scoped>\n",
       "    .dataframe tbody tr th:only-of-type {\n",
       "        vertical-align: middle;\n",
       "    }\n",
       "\n",
       "    .dataframe tbody tr th {\n",
       "        vertical-align: top;\n",
       "    }\n",
       "\n",
       "    .dataframe thead th {\n",
       "        text-align: right;\n",
       "    }\n",
       "</style>\n",
       "<table border=\"1\" class=\"dataframe\">\n",
       "  <thead>\n",
       "    <tr style=\"text-align: right;\">\n",
       "      <th></th>\n",
       "      <th>Category</th>\n",
       "      <th>Title</th>\n",
       "      <th>Location</th>\n",
       "      <th>Amount_Raised</th>\n",
       "      <th>Goal</th>\n",
       "      <th>Days_of_Fundraising</th>\n",
       "      <th>Number_of_Donors</th>\n",
       "      <th>FB_Shares</th>\n",
       "      <th>Text</th>\n",
       "      <th>Proportion_Raised</th>\n",
       "      <th>Average_Donation_Amount</th>\n",
       "      <th>How_successful</th>\n",
       "    </tr>\n",
       "  </thead>\n",
       "  <tbody>\n",
       "    <tr>\n",
       "      <th>0</th>\n",
       "      <td>Medical</td>\n",
       "      <td>Justice for Jacob Blake</td>\n",
       "      <td>Kenosha, WI</td>\n",
       "      <td>2297930</td>\n",
       "      <td>3000000</td>\n",
       "      <td>93</td>\n",
       "      <td>72500</td>\n",
       "      <td>118000</td>\n",
       "      <td>on august 23rd my son was shot multiple times ...</td>\n",
       "      <td>76</td>\n",
       "      <td>31.70</td>\n",
       "      <td>Highly Unsuccessful</td>\n",
       "    </tr>\n",
       "    <tr>\n",
       "      <th>1</th>\n",
       "      <td>Medical</td>\n",
       "      <td>Official Navajo Nation COVID-19 Relief Fund</td>\n",
       "      <td>Window Rock, AZ</td>\n",
       "      <td>1862040</td>\n",
       "      <td>1000000</td>\n",
       "      <td>205</td>\n",
       "      <td>21900</td>\n",
       "      <td>71700</td>\n",
       "      <td>the navajo nation covid-19 fund has been estab...</td>\n",
       "      <td>186</td>\n",
       "      <td>85.02</td>\n",
       "      <td>Highly Unsuccessful</td>\n",
       "    </tr>\n",
       "    <tr>\n",
       "      <th>2</th>\n",
       "      <td>Medical</td>\n",
       "      <td>Help a front line nurse and baby get proper care</td>\n",
       "      <td>Randolph, NJ</td>\n",
       "      <td>954793</td>\n",
       "      <td>1200000</td>\n",
       "      <td>215</td>\n",
       "      <td>18300</td>\n",
       "      <td>16400</td>\n",
       "      <td>on sunday, april 12, sylvia leroy, a pregnant ...</td>\n",
       "      <td>79</td>\n",
       "      <td>52.17</td>\n",
       "      <td>Highly Unsuccessful</td>\n",
       "    </tr>\n",
       "    <tr>\n",
       "      <th>3</th>\n",
       "      <td>Medical</td>\n",
       "      <td>Rest up, Tommy, we'll see you soon</td>\n",
       "      <td>Scottsdale, AZ</td>\n",
       "      <td>673179</td>\n",
       "      <td>1000000</td>\n",
       "      <td>131</td>\n",
       "      <td>10300</td>\n",
       "      <td>21300</td>\n",
       "      <td>first, thank you for being here. tommy rivers ...</td>\n",
       "      <td>67</td>\n",
       "      <td>65.36</td>\n",
       "      <td>Highly Unsuccessful</td>\n",
       "    </tr>\n",
       "    <tr>\n",
       "      <th>4</th>\n",
       "      <td>Medical</td>\n",
       "      <td>OFFICIAL BRANDON SAENZ MEDICAL FUND</td>\n",
       "      <td>Tyler, TX</td>\n",
       "      <td>570529</td>\n",
       "      <td>750000</td>\n",
       "      <td>175</td>\n",
       "      <td>24300</td>\n",
       "      <td>5500</td>\n",
       "      <td>my name is melissa green and i am the mother o...</td>\n",
       "      <td>76</td>\n",
       "      <td>23.48</td>\n",
       "      <td>Highly Unsuccessful</td>\n",
       "    </tr>\n",
       "  </tbody>\n",
       "</table>\n",
       "</div>"
      ],
      "text/plain": [
       "  Category                                             Title         Location  \\\n",
       "0  Medical                           Justice for Jacob Blake      Kenosha, WI   \n",
       "1  Medical       Official Navajo Nation COVID-19 Relief Fund  Window Rock, AZ   \n",
       "2  Medical  Help a front line nurse and baby get proper care     Randolph, NJ   \n",
       "3  Medical                Rest up, Tommy, we'll see you soon   Scottsdale, AZ   \n",
       "4  Medical               OFFICIAL BRANDON SAENZ MEDICAL FUND        Tyler, TX   \n",
       "\n",
       "   Amount_Raised     Goal  Days_of_Fundraising  Number_of_Donors  FB_Shares  \\\n",
       "0        2297930  3000000                   93             72500     118000   \n",
       "1        1862040  1000000                  205             21900      71700   \n",
       "2         954793  1200000                  215             18300      16400   \n",
       "3         673179  1000000                  131             10300      21300   \n",
       "4         570529   750000                  175             24300       5500   \n",
       "\n",
       "                                                Text  Proportion_Raised  \\\n",
       "0  on august 23rd my son was shot multiple times ...                 76   \n",
       "1  the navajo nation covid-19 fund has been estab...                186   \n",
       "2  on sunday, april 12, sylvia leroy, a pregnant ...                 79   \n",
       "3  first, thank you for being here. tommy rivers ...                 67   \n",
       "4  my name is melissa green and i am the mother o...                 76   \n",
       "\n",
       "   Average_Donation_Amount       How_successful  \n",
       "0                    31.70  Highly Unsuccessful  \n",
       "1                    85.02  Highly Unsuccessful  \n",
       "2                    52.17  Highly Unsuccessful  \n",
       "3                    65.36  Highly Unsuccessful  \n",
       "4                    23.48  Highly Unsuccessful  "
      ]
     },
     "execution_count": 30,
     "metadata": {},
     "output_type": "execute_result"
    }
   ],
   "source": [
    "gfm_data.head()                    #dataset"
   ]
  },
  {
   "cell_type": "code",
   "execution_count": 10,
   "metadata": {},
   "outputs": [
    {
     "name": "stdout",
     "output_type": "stream",
     "text": [
      "<class 'pandas.core.frame.DataFrame'>\n",
      "RangeIndex: 838 entries, 0 to 837\n",
      "Data columns (total 9 columns):\n",
      " #   Column               Non-Null Count  Dtype  \n",
      "---  ------               --------------  -----  \n",
      " 0   Category             838 non-null    object \n",
      " 1   Title                838 non-null    object \n",
      " 2   Location             838 non-null    object \n",
      " 3   Amount_Raised        838 non-null    float64\n",
      " 4   Goal                 838 non-null    float64\n",
      " 5   Days_of_Fundraising  838 non-null    int64  \n",
      " 6   Number_of_Donors     838 non-null    float64\n",
      " 7   FB_Shares            838 non-null    float64\n",
      " 8   Text                 838 non-null    object \n",
      "dtypes: float64(4), int64(1), object(4)\n",
      "memory usage: 59.0+ KB\n"
     ]
    }
   ],
   "source": [
    "gfm_data.info()                  #Number_of_Donors and FB_Shares dtype-float   "
   ]
  },
  {
   "cell_type": "code",
   "execution_count": 11,
   "metadata": {},
   "outputs": [],
   "source": [
    "gfm_data[\"Number_of_Donors\"]=gfm_data[\"Number_of_Donors\"].astype(int) #converted float type into int"
   ]
  },
  {
   "cell_type": "code",
   "execution_count": 12,
   "metadata": {},
   "outputs": [],
   "source": [
    "gfm_data[\"FB_Shares\"]=gfm_data[\"FB_Shares\"].astype(int)                #converted float type into int"
   ]
  },
  {
   "cell_type": "code",
   "execution_count": 13,
   "metadata": {},
   "outputs": [
    {
     "name": "stdout",
     "output_type": "stream",
     "text": [
      "<class 'pandas.core.frame.DataFrame'>\n",
      "RangeIndex: 838 entries, 0 to 837\n",
      "Data columns (total 9 columns):\n",
      " #   Column               Non-Null Count  Dtype  \n",
      "---  ------               --------------  -----  \n",
      " 0   Category             838 non-null    object \n",
      " 1   Title                838 non-null    object \n",
      " 2   Location             838 non-null    object \n",
      " 3   Amount_Raised        838 non-null    float64\n",
      " 4   Goal                 838 non-null    float64\n",
      " 5   Days_of_Fundraising  838 non-null    int64  \n",
      " 6   Number_of_Donors     838 non-null    int32  \n",
      " 7   FB_Shares            838 non-null    int32  \n",
      " 8   Text                 838 non-null    object \n",
      "dtypes: float64(2), int32(2), int64(1), object(4)\n",
      "memory usage: 52.5+ KB\n"
     ]
    }
   ],
   "source": [
    "gfm_data.info()"
   ]
  },
  {
   "cell_type": "markdown",
   "metadata": {},
   "source": [
    "#### Question 3. Create a new dataframe called gfm_campaigns that has the same columns as gfm,plus two more:\n",
    "\n"
   ]
  },
  {
   "cell_type": "markdown",
   "metadata": {},
   "source": [
    "#### 1. Proportion_Raised, which has the proportion of the overall goal that the campaign raised. This proportion should be rounded (not truncated) to 3 decimal places.\n"
   ]
  },
  {
   "cell_type": "markdown",
   "metadata": {},
   "source": [
    "#### 2. Average_Donation_Amount, which has the average donation amount per donor. Since this is a dollar amount, it should be rounded (not truncated) to 2 decimal places.\n"
   ]
  },
  {
   "cell_type": "code",
   "execution_count": 14,
   "metadata": {},
   "outputs": [],
   "source": [
    "gfm_data[\"Amount_Raised\"]=gfm_data[\"Amount_Raised\"].astype(int)     #converted into int type"
   ]
  },
  {
   "cell_type": "code",
   "execution_count": 15,
   "metadata": {},
   "outputs": [],
   "source": [
    "gfm_data[\"Goal\"]=gfm_data[\"Goal\"].astype(int)                      #converted into int type"
   ]
  },
  {
   "cell_type": "code",
   "execution_count": 16,
   "metadata": {},
   "outputs": [
    {
     "name": "stdout",
     "output_type": "stream",
     "text": [
      "<class 'pandas.core.frame.DataFrame'>\n",
      "RangeIndex: 838 entries, 0 to 837\n",
      "Data columns (total 9 columns):\n",
      " #   Column               Non-Null Count  Dtype \n",
      "---  ------               --------------  ----- \n",
      " 0   Category             838 non-null    object\n",
      " 1   Title                838 non-null    object\n",
      " 2   Location             838 non-null    object\n",
      " 3   Amount_Raised        838 non-null    int32 \n",
      " 4   Goal                 838 non-null    int32 \n",
      " 5   Days_of_Fundraising  838 non-null    int64 \n",
      " 6   Number_of_Donors     838 non-null    int32 \n",
      " 7   FB_Shares            838 non-null    int32 \n",
      " 8   Text                 838 non-null    object\n",
      "dtypes: int32(4), int64(1), object(4)\n",
      "memory usage: 46.0+ KB\n"
     ]
    }
   ],
   "source": [
    "gfm_data.info()                     "
   ]
  },
  {
   "cell_type": "code",
   "execution_count": 17,
   "metadata": {},
   "outputs": [],
   "source": [
    "gfm_data[\"Proportion_Raised\"]=((gfm_data['Amount_Raised']/gfm_data['Goal']*100).round(3))  \n",
    "                                                         #computed percentage of proportion raised upto 3 decimal places"
   ]
  },
  {
   "cell_type": "code",
   "execution_count": 18,
   "metadata": {},
   "outputs": [
    {
     "data": {
      "text/plain": [
       "0       76.598\n",
       "1      186.204\n",
       "2       79.566\n",
       "3       67.318\n",
       "4       76.071\n",
       "        ...   \n",
       "833     86.740\n",
       "834    113.529\n",
       "835      7.145\n",
       "836     23.436\n",
       "837     35.810\n",
       "Name: Proportion_Raised, Length: 838, dtype: float64"
      ]
     },
     "execution_count": 18,
     "metadata": {},
     "output_type": "execute_result"
    }
   ],
   "source": [
    "gfm_data[\"Proportion_Raised\"]"
   ]
  },
  {
   "cell_type": "code",
   "execution_count": 19,
   "metadata": {},
   "outputs": [],
   "source": [
    "gfm_data[\"Average_Donation_Amount\"]=((gfm_data['Amount_Raised']/gfm_data['Number_of_Donors']).round(2))\n",
    "                                                           #computed avd donation per person upto 2 decimal places"
   ]
  },
  {
   "cell_type": "code",
   "execution_count": 20,
   "metadata": {},
   "outputs": [
    {
     "data": {
      "text/plain": [
       "0      31.70\n",
       "1      85.02\n",
       "2      52.17\n",
       "3      65.36\n",
       "4      23.48\n",
       "       ...  \n",
       "833     0.05\n",
       "834     0.07\n",
       "835     0.07\n",
       "836     0.11\n",
       "837     0.40\n",
       "Name: Average_Donation_Amount, Length: 838, dtype: float64"
      ]
     },
     "execution_count": 20,
     "metadata": {},
     "output_type": "execute_result"
    }
   ],
   "source": [
    "gfm_data[\"Average_Donation_Amount\"]"
   ]
  },
  {
   "cell_type": "code",
   "execution_count": 21,
   "metadata": {},
   "outputs": [
    {
     "data": {
      "text/html": [
       "<div>\n",
       "<style scoped>\n",
       "    .dataframe tbody tr th:only-of-type {\n",
       "        vertical-align: middle;\n",
       "    }\n",
       "\n",
       "    .dataframe tbody tr th {\n",
       "        vertical-align: top;\n",
       "    }\n",
       "\n",
       "    .dataframe thead th {\n",
       "        text-align: right;\n",
       "    }\n",
       "</style>\n",
       "<table border=\"1\" class=\"dataframe\">\n",
       "  <thead>\n",
       "    <tr style=\"text-align: right;\">\n",
       "      <th></th>\n",
       "      <th>Category</th>\n",
       "      <th>Title</th>\n",
       "      <th>Location</th>\n",
       "      <th>Amount_Raised</th>\n",
       "      <th>Goal</th>\n",
       "      <th>Days_of_Fundraising</th>\n",
       "      <th>Number_of_Donors</th>\n",
       "      <th>FB_Shares</th>\n",
       "      <th>Text</th>\n",
       "      <th>Proportion_Raised</th>\n",
       "      <th>Average_Donation_Amount</th>\n",
       "    </tr>\n",
       "  </thead>\n",
       "  <tbody>\n",
       "    <tr>\n",
       "      <th>0</th>\n",
       "      <td>Medical</td>\n",
       "      <td>Justice for Jacob Blake</td>\n",
       "      <td>Kenosha, WI</td>\n",
       "      <td>2297930</td>\n",
       "      <td>3000000</td>\n",
       "      <td>93</td>\n",
       "      <td>72500</td>\n",
       "      <td>118000</td>\n",
       "      <td>On August 23rd my son was shot multiple times ...</td>\n",
       "      <td>76.598</td>\n",
       "      <td>31.70</td>\n",
       "    </tr>\n",
       "    <tr>\n",
       "      <th>1</th>\n",
       "      <td>Medical</td>\n",
       "      <td>Official Navajo Nation COVID-19 Relief Fund</td>\n",
       "      <td>Window Rock, AZ</td>\n",
       "      <td>1862040</td>\n",
       "      <td>1000000</td>\n",
       "      <td>205</td>\n",
       "      <td>21900</td>\n",
       "      <td>71700</td>\n",
       "      <td>The Navajo Nation COVID-19 Fund has been estab...</td>\n",
       "      <td>186.204</td>\n",
       "      <td>85.02</td>\n",
       "    </tr>\n",
       "    <tr>\n",
       "      <th>2</th>\n",
       "      <td>Medical</td>\n",
       "      <td>Help a front line nurse and baby get proper care</td>\n",
       "      <td>Randolph, NJ</td>\n",
       "      <td>954793</td>\n",
       "      <td>1200000</td>\n",
       "      <td>215</td>\n",
       "      <td>18300</td>\n",
       "      <td>16400</td>\n",
       "      <td>On Sunday, April 12, Sylvia Leroy, a pregnant ...</td>\n",
       "      <td>79.566</td>\n",
       "      <td>52.17</td>\n",
       "    </tr>\n",
       "    <tr>\n",
       "      <th>3</th>\n",
       "      <td>Medical</td>\n",
       "      <td>Rest up, Tommy, we'll see you soon</td>\n",
       "      <td>Scottsdale, AZ</td>\n",
       "      <td>673179</td>\n",
       "      <td>1000000</td>\n",
       "      <td>131</td>\n",
       "      <td>10300</td>\n",
       "      <td>21300</td>\n",
       "      <td>First, thank you for being here. Tommy Rivers ...</td>\n",
       "      <td>67.318</td>\n",
       "      <td>65.36</td>\n",
       "    </tr>\n",
       "    <tr>\n",
       "      <th>4</th>\n",
       "      <td>Medical</td>\n",
       "      <td>OFFICIAL BRANDON SAENZ MEDICAL FUND</td>\n",
       "      <td>Tyler, TX</td>\n",
       "      <td>570529</td>\n",
       "      <td>750000</td>\n",
       "      <td>175</td>\n",
       "      <td>24300</td>\n",
       "      <td>5500</td>\n",
       "      <td>My name is Melissa Green and I am the mother o...</td>\n",
       "      <td>76.071</td>\n",
       "      <td>23.48</td>\n",
       "    </tr>\n",
       "    <tr>\n",
       "      <th>...</th>\n",
       "      <td>...</td>\n",
       "      <td>...</td>\n",
       "      <td>...</td>\n",
       "      <td>...</td>\n",
       "      <td>...</td>\n",
       "      <td>...</td>\n",
       "      <td>...</td>\n",
       "      <td>...</td>\n",
       "      <td>...</td>\n",
       "      <td>...</td>\n",
       "      <td>...</td>\n",
       "    </tr>\n",
       "    <tr>\n",
       "      <th>833</th>\n",
       "      <td>Wishes</td>\n",
       "      <td>Juneteenth Women of Color Scholarship Fund</td>\n",
       "      <td>Brooklyn, NY</td>\n",
       "      <td>17348</td>\n",
       "      <td>20000</td>\n",
       "      <td>160</td>\n",
       "      <td>366000</td>\n",
       "      <td>214000</td>\n",
       "      <td>The need for community and collective healing ...</td>\n",
       "      <td>86.740</td>\n",
       "      <td>0.05</td>\n",
       "    </tr>\n",
       "    <tr>\n",
       "      <th>834</th>\n",
       "      <td>Wishes</td>\n",
       "      <td>All-Terrain Wheelchair for Benjamin Wimett</td>\n",
       "      <td>Brandon, VT</td>\n",
       "      <td>19300</td>\n",
       "      <td>17000</td>\n",
       "      <td>200</td>\n",
       "      <td>279000</td>\n",
       "      <td>2500</td>\n",
       "      <td>I am 35 years old and was born with cerebral p...</td>\n",
       "      <td>113.529</td>\n",
       "      <td>0.07</td>\n",
       "    </tr>\n",
       "    <tr>\n",
       "      <th>835</th>\n",
       "      <td>Wishes</td>\n",
       "      <td>Martha's Daughter</td>\n",
       "      <td>Amherst, MA</td>\n",
       "      <td>21435</td>\n",
       "      <td>300000</td>\n",
       "      <td>110</td>\n",
       "      <td>318000</td>\n",
       "      <td>868000</td>\n",
       "      <td>Greetings,My name is Nyanyika Banda. I am a ch...</td>\n",
       "      <td>7.145</td>\n",
       "      <td>0.07</td>\n",
       "    </tr>\n",
       "    <tr>\n",
       "      <th>836</th>\n",
       "      <td>Wishes</td>\n",
       "      <td>Financial Difficulties</td>\n",
       "      <td>Johnson City, TN</td>\n",
       "      <td>16405</td>\n",
       "      <td>70000</td>\n",
       "      <td>173</td>\n",
       "      <td>148000</td>\n",
       "      <td>379000</td>\n",
       "      <td>My wife, Roni, and I have faced many  health c...</td>\n",
       "      <td>23.436</td>\n",
       "      <td>0.11</td>\n",
       "    </tr>\n",
       "    <tr>\n",
       "      <th>837</th>\n",
       "      <td>Wishes</td>\n",
       "      <td>Our Roots - Yahchouche</td>\n",
       "      <td>Santa Ana, CA</td>\n",
       "      <td>17905</td>\n",
       "      <td>50000</td>\n",
       "      <td>147</td>\n",
       "      <td>45000</td>\n",
       "      <td>242000</td>\n",
       "      <td>No matter where life has lead us, our past for...</td>\n",
       "      <td>35.810</td>\n",
       "      <td>0.40</td>\n",
       "    </tr>\n",
       "  </tbody>\n",
       "</table>\n",
       "<p>838 rows × 11 columns</p>\n",
       "</div>"
      ],
      "text/plain": [
       "    Category                                             Title  \\\n",
       "0    Medical                           Justice for Jacob Blake   \n",
       "1    Medical       Official Navajo Nation COVID-19 Relief Fund   \n",
       "2    Medical  Help a front line nurse and baby get proper care   \n",
       "3    Medical                Rest up, Tommy, we'll see you soon   \n",
       "4    Medical               OFFICIAL BRANDON SAENZ MEDICAL FUND   \n",
       "..       ...                                               ...   \n",
       "833   Wishes        Juneteenth Women of Color Scholarship Fund   \n",
       "834   Wishes        All-Terrain Wheelchair for Benjamin Wimett   \n",
       "835   Wishes                                 Martha's Daughter   \n",
       "836   Wishes                            Financial Difficulties   \n",
       "837   Wishes                            Our Roots - Yahchouche   \n",
       "\n",
       "             Location  Amount_Raised     Goal  Days_of_Fundraising  \\\n",
       "0         Kenosha, WI        2297930  3000000                   93   \n",
       "1     Window Rock, AZ        1862040  1000000                  205   \n",
       "2        Randolph, NJ         954793  1200000                  215   \n",
       "3      Scottsdale, AZ         673179  1000000                  131   \n",
       "4           Tyler, TX         570529   750000                  175   \n",
       "..                ...            ...      ...                  ...   \n",
       "833      Brooklyn, NY          17348    20000                  160   \n",
       "834       Brandon, VT          19300    17000                  200   \n",
       "835       Amherst, MA          21435   300000                  110   \n",
       "836  Johnson City, TN          16405    70000                  173   \n",
       "837     Santa Ana, CA          17905    50000                  147   \n",
       "\n",
       "     Number_of_Donors  FB_Shares  \\\n",
       "0               72500     118000   \n",
       "1               21900      71700   \n",
       "2               18300      16400   \n",
       "3               10300      21300   \n",
       "4               24300       5500   \n",
       "..                ...        ...   \n",
       "833            366000     214000   \n",
       "834            279000       2500   \n",
       "835            318000     868000   \n",
       "836            148000     379000   \n",
       "837             45000     242000   \n",
       "\n",
       "                                                  Text  Proportion_Raised  \\\n",
       "0    On August 23rd my son was shot multiple times ...             76.598   \n",
       "1    The Navajo Nation COVID-19 Fund has been estab...            186.204   \n",
       "2    On Sunday, April 12, Sylvia Leroy, a pregnant ...             79.566   \n",
       "3    First, thank you for being here. Tommy Rivers ...             67.318   \n",
       "4    My name is Melissa Green and I am the mother o...             76.071   \n",
       "..                                                 ...                ...   \n",
       "833  The need for community and collective healing ...             86.740   \n",
       "834  I am 35 years old and was born with cerebral p...            113.529   \n",
       "835  Greetings,My name is Nyanyika Banda. I am a ch...              7.145   \n",
       "836  My wife, Roni, and I have faced many  health c...             23.436   \n",
       "837  No matter where life has lead us, our past for...             35.810   \n",
       "\n",
       "     Average_Donation_Amount  \n",
       "0                      31.70  \n",
       "1                      85.02  \n",
       "2                      52.17  \n",
       "3                      65.36  \n",
       "4                      23.48  \n",
       "..                       ...  \n",
       "833                     0.05  \n",
       "834                     0.07  \n",
       "835                     0.07  \n",
       "836                     0.11  \n",
       "837                     0.40  \n",
       "\n",
       "[838 rows x 11 columns]"
      ]
     },
     "execution_count": 21,
     "metadata": {},
     "output_type": "execute_result"
    }
   ],
   "source": [
    "gfm_campaign=gfm_data\n",
    "gfm_campaign"
   ]
  },
  {
   "cell_type": "markdown",
   "metadata": {},
   "source": [
    "#### Question 4. Create a new dataframe called gfm_success, which has all the information from the gfm_campaigns dataframe plus a new column titled How_Successful that indicates how successful a campaign was, depending on its Proportion_Raised. If x is the proportion raised, we use the table below to define how successful a campaign is.\n",
    "\n",
    "\n",
    "\n"
   ]
  },
  {
   "cell_type": "code",
   "execution_count": 45,
   "metadata": {},
   "outputs": [],
   "source": [
    "def success_rate(val):\n",
    "    if val>=0 and val<=20:                             #declaring the function to evaluate the success of campaign\n",
    "        return (\"Highly Unsuccessful\")\n",
    "    if val>=20 and val<=50:\n",
    "        return (\"Moderately Unsuccessful\")\n",
    "    if val>=50 and val<=80:\n",
    "        return (\"Moderately Successful\")\n",
    "    if val>=80 and val<=100:\n",
    "        return (\"Highly Successful\")\n",
    "    else:\n",
    "        return (\"Extremely Successful\")\n",
    "     "
   ]
  },
  {
   "cell_type": "code",
   "execution_count": 46,
   "metadata": {},
   "outputs": [],
   "source": [
    "gfm_data[\"Proportion_Raised\"]=gfm_data[\"Proportion_Raised\"].astype(int)"
   ]
  },
  {
   "cell_type": "code",
   "execution_count": 47,
   "metadata": {},
   "outputs": [
    {
     "data": {
      "text/plain": [
       "0       76\n",
       "1      186\n",
       "2       79\n",
       "3       67\n",
       "4       76\n",
       "      ... \n",
       "833     86\n",
       "834    113\n",
       "835      7\n",
       "836     23\n",
       "837     35\n",
       "Name: Proportion_Raised, Length: 838, dtype: int32"
      ]
     },
     "execution_count": 47,
     "metadata": {},
     "output_type": "execute_result"
    }
   ],
   "source": [
    "gfm_data[\"Proportion_Raised\"]                       #proportion raised column"
   ]
  },
  {
   "cell_type": "code",
   "execution_count": 48,
   "metadata": {},
   "outputs": [],
   "source": [
    "gfm_campaign[\"How_successful\"]=gfm_campaign[\"Proportion_Raised\"].apply(success_rate)"
   ]
  },
  {
   "cell_type": "code",
   "execution_count": 49,
   "metadata": {},
   "outputs": [
    {
     "data": {
      "text/plain": [
       "0        Moderately Successful\n",
       "1         Extremely Successful\n",
       "2        Moderately Successful\n",
       "3        Moderately Successful\n",
       "4        Moderately Successful\n",
       "                ...           \n",
       "833          Highly Successful\n",
       "834       Extremely Successful\n",
       "835        Highly Unsuccessful\n",
       "836    Moderately Unsuccessful\n",
       "837    Moderately Unsuccessful\n",
       "Name: How_successful, Length: 838, dtype: object"
      ]
     },
     "execution_count": 49,
     "metadata": {},
     "output_type": "execute_result"
    }
   ],
   "source": [
    "gfm_campaign[\"How_successful\"]               #applied function "
   ]
  },
  {
   "cell_type": "markdown",
   "metadata": {},
   "source": [
    "### Overwrite the Text column in the gfm dataframe so that all the descriptions appear in lowercase.\n",
    "\n"
   ]
  },
  {
   "cell_type": "code",
   "execution_count": 27,
   "metadata": {},
   "outputs": [
    {
     "data": {
      "text/plain": [
       "0      on august 23rd my son was shot multiple times ...\n",
       "1      the navajo nation covid-19 fund has been estab...\n",
       "2      on sunday, april 12, sylvia leroy, a pregnant ...\n",
       "3      first, thank you for being here. tommy rivers ...\n",
       "4      my name is melissa green and i am the mother o...\n",
       "                             ...                        \n",
       "833    the need for community and collective healing ...\n",
       "834    i am 35 years old and was born with cerebral p...\n",
       "835    greetings,my name is nyanyika banda. i am a ch...\n",
       "836    my wife, roni, and i have faced many  health c...\n",
       "837    no matter where life has lead us, our past for...\n",
       "Name: Text, Length: 838, dtype: object"
      ]
     },
     "execution_count": 27,
     "metadata": {},
     "output_type": "execute_result"
    }
   ],
   "source": [
    "gfm_campaign[\"Text\"]=gfm_campaign.Text.str.lower()               #lower case the column\n",
    "gfm_campaign[\"Text\"]"
   ]
  },
  {
   "cell_type": "markdown",
   "metadata": {},
   "source": [
    "#### Create a new dataframe called gfm, which has all the information from the gfm_success dataframe plus a new column called Num_Chars with the length of the text description for each campaign, as an int.\n"
   ]
  },
  {
   "cell_type": "code",
   "execution_count": 50,
   "metadata": {},
   "outputs": [],
   "source": [
    "def char_count(st):\n",
    "    count=0                                        #declaring function to count no. of chars. in column\n",
    "    for i in st:\n",
    "            count=count+1\n",
    "    return count"
   ]
  },
  {
   "cell_type": "code",
   "execution_count": 51,
   "metadata": {},
   "outputs": [],
   "source": [
    "gfm_campaign[\"Num_chars\"]=gfm_campaign[\"Text\"].apply(char_count)"
   ]
  },
  {
   "cell_type": "code",
   "execution_count": 52,
   "metadata": {},
   "outputs": [
    {
     "data": {
      "text/plain": [
       "0       964\n",
       "1       824\n",
       "2      1651\n",
       "3      1461\n",
       "4      1241\n",
       "       ... \n",
       "833    4098\n",
       "834    3006\n",
       "835    5844\n",
       "836    6745\n",
       "837     118\n",
       "Name: Num_chars, Length: 838, dtype: int64"
      ]
     },
     "execution_count": 52,
     "metadata": {},
     "output_type": "execute_result"
    }
   ],
   "source": [
    "gfm_campaign[\"Num_chars\"]"
   ]
  },
  {
   "cell_type": "code",
   "execution_count": 36,
   "metadata": {},
   "outputs": [],
   "source": [
    "gfm=gfm_campaign"
   ]
  },
  {
   "cell_type": "code",
   "execution_count": 37,
   "metadata": {},
   "outputs": [
    {
     "data": {
      "text/plain": [
       "Index(['Category', 'Title', 'Location', 'Amount_Raised', 'Goal',\n",
       "       'Days_of_Fundraising', 'Number_of_Donors', 'FB_Shares', 'Text',\n",
       "       'Proportion_Raised', 'Average_Donation_Amount', 'How_successful',\n",
       "       'Num_chars'],\n",
       "      dtype='object')"
      ]
     },
     "execution_count": 37,
     "metadata": {},
     "output_type": "execute_result"
    }
   ],
   "source": [
    "gfm.columns"
   ]
  },
  {
   "cell_type": "markdown",
   "metadata": {},
   "source": [
    "#### Question 7. Set cutoff to be the smallest number of characters for which we will consider a text description to be long, if we want the groups to be about the same size. \n"
   ]
  },
  {
   "cell_type": "code",
   "execution_count": 102,
   "metadata": {},
   "outputs": [
    {
     "data": {
      "text/plain": [
       "1486.0"
      ]
     },
     "execution_count": 102,
     "metadata": {},
     "output_type": "execute_result"
    }
   ],
   "source": [
    "cutoff=gfm[\"Num_chars\"].median()\n",
    "cutoff                                  #calculation of cutoff by median on num_chars"
   ]
  },
  {
   "cell_type": "code",
   "execution_count": 103,
   "metadata": {},
   "outputs": [],
   "source": [
    "def long_short(val):\n",
    "    if val<=cutoff:\n",
    "        return (\"short\")                  #determining long and short desriptions\n",
    "    else:\n",
    "        return(\"long\")\n",
    "   \n",
    "    "
   ]
  },
  {
   "cell_type": "code",
   "execution_count": 104,
   "metadata": {},
   "outputs": [],
   "source": [
    "gfm_campaign[\"Description\"]=gfm_campaign[\"Num_chars\"].apply(long_short) #applying function"
   ]
  },
  {
   "cell_type": "code",
   "execution_count": 105,
   "metadata": {},
   "outputs": [
    {
     "data": {
      "text/plain": [
       "0      short\n",
       "1      short\n",
       "2       long\n",
       "3      short\n",
       "4      short\n",
       "       ...  \n",
       "833     long\n",
       "834     long\n",
       "835     long\n",
       "836     long\n",
       "837    short\n",
       "Name: Description, Length: 838, dtype: object"
      ]
     },
     "execution_count": 105,
     "metadata": {},
     "output_type": "execute_result"
    }
   ],
   "source": [
    "gfm_campaign[\"Description\"]                  #new column with long or short noted"
   ]
  },
  {
   "cell_type": "markdown",
   "metadata": {},
   "source": [
    "### Which three words do you think are impactful to donors? Store any three lowercase words you think are linked to higher average donations in a list called impactful_words. \n"
   ]
  },
  {
   "cell_type": "code",
   "execution_count": 62,
   "metadata": {},
   "outputs": [],
   "source": [
    "impactful_words =['accident','shot','cancer']     #list of impactful words"
   ]
  },
  {
   "cell_type": "code",
   "execution_count": 63,
   "metadata": {},
   "outputs": [],
   "source": [
    "def words_check(st):                                   #creating funtion to check if the word is in the string\n",
    "     return any(i in st for i in impactful_words )\n",
    "\n",
    "    \n",
    "    "
   ]
  },
  {
   "cell_type": "code",
   "execution_count": 64,
   "metadata": {},
   "outputs": [],
   "source": [
    "gfm_campaign[\"Has_Impactful\"]=gfm_campaign[\"Text\"].apply(words_check) #applying function"
   ]
  },
  {
   "cell_type": "code",
   "execution_count": 65,
   "metadata": {},
   "outputs": [
    {
     "data": {
      "text/plain": [
       "0       True\n",
       "1      False\n",
       "2      False\n",
       "3       True\n",
       "4      False\n",
       "       ...  \n",
       "833    False\n",
       "834     True\n",
       "835    False\n",
       "836     True\n",
       "837    False\n",
       "Name: Has_Impactful, Length: 838, dtype: bool"
      ]
     },
     "execution_count": 65,
     "metadata": {},
     "output_type": "execute_result"
    }
   ],
   "source": [
    "gfm_campaign[\"Has_Impactful\"]                             #new column "
   ]
  },
  {
   "cell_type": "code",
   "execution_count": 44,
   "metadata": {},
   "outputs": [
    {
     "data": {
      "text/plain": [
       "Index(['Category', 'Title', 'Location', 'Amount_Raised', 'Goal',\n",
       "       'Days_of_Fundraising', 'Number_of_Donors', 'FB_Shares', 'Text',\n",
       "       'Proportion_Raised', 'Average_Donation_Amount', 'How_successful',\n",
       "       'Num_chars', 'Has_Impactful'],\n",
       "      dtype='object')"
      ]
     },
     "execution_count": 44,
     "metadata": {},
     "output_type": "execute_result"
    }
   ],
   "source": [
    "gfm_campaign.columns"
   ]
  }
 ],
 "metadata": {
  "kernelspec": {
   "display_name": "Python 3",
   "language": "python",
   "name": "python3"
  },
  "language_info": {
   "codemirror_mode": {
    "name": "ipython",
    "version": 3
   },
   "file_extension": ".py",
   "mimetype": "text/x-python",
   "name": "python",
   "nbconvert_exporter": "python",
   "pygments_lexer": "ipython3",
   "version": "3.8.3"
  }
 },
 "nbformat": 4,
 "nbformat_minor": 4
}
